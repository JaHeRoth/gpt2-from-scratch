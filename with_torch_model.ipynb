{
 "cells": [
  {
   "cell_type": "code",
   "execution_count": 1,
   "outputs": [
    {
     "name": "stdout",
     "output_type": "stream",
     "text": [
      "device=device(type='cpu')\n"
     ]
    }
   ],
   "source": [
    "import torch\n",
    "\n",
    "if torch.cuda.is_available():\n",
    "    device = torch.device(\"cuda\")\n",
    "# Commented out because we yet again find mps to be drastically slower\n",
    "# elif torch.backends.mps.is_available():\n",
    "#     torch._dynamo.disable()  # https://github.com/pytorch/pytorch/issues/149184\n",
    "#     device = torch.device(\"mps\")\n",
    "else:\n",
    "    device = torch.device(\"cpu\")\n",
    "print(f\"{device=}\")"
   ],
   "metadata": {
    "collapsed": false,
    "ExecuteTime": {
     "end_time": "2025-06-06T20:22:07.431844Z",
     "start_time": "2025-06-06T20:22:06.539892Z"
    }
   },
   "id": "f1f7c192645ed843"
  },
  {
   "cell_type": "code",
   "execution_count": 2,
   "outputs": [],
   "source": [
    "from transformers import AutoTokenizer\n",
    "from datasets import load_dataset\n",
    "\n",
    "tokenizer = AutoTokenizer.from_pretrained(\"openai-community/gpt2\")\n",
    "dataset = load_dataset(\"wikitext\", \"wikitext-103-v1\")"
   ],
   "metadata": {
    "collapsed": false,
    "ExecuteTime": {
     "end_time": "2025-06-06T20:22:15.239512Z",
     "start_time": "2025-06-06T20:22:07.431651Z"
    }
   },
   "id": "dcc3bee03e0bf4e3"
  },
  {
   "cell_type": "code",
   "execution_count": 4,
   "outputs": [
    {
     "data": {
      "text/plain": "DatasetDict({\n    test: Dataset({\n        features: ['input_ids'],\n        num_rows: 12746\n    })\n    train: Dataset({\n        features: ['input_ids'],\n        num_rows: 5333343\n    })\n    validation: Dataset({\n        features: ['input_ids'],\n        num_rows: 11174\n    })\n})"
     },
     "execution_count": 4,
     "metadata": {},
     "output_type": "execute_result"
    }
   ],
   "source": [
    "context_length = 20\n",
    "\n",
    "def tokenize(batch):\n",
    "    # TODO: Sequence packing\n",
    "    outputs = tokenizer(\n",
    "        batch[\"text\"],\n",
    "        truncation=True,\n",
    "        max_length=context_length,\n",
    "        return_overflowing_tokens=True,\n",
    "        return_length=True,\n",
    "    )\n",
    "    return {\n",
    "        \"input_ids\": [\n",
    "            input_ids\n",
    "            for length, input_ids in zip(outputs[\"length\"], outputs[\"input_ids\"])\n",
    "            if length == context_length\n",
    "        ]\n",
    "    }\n",
    "\n",
    "tokenized_ds = dataset.map(\n",
    "    tokenize, batched=True, remove_columns=dataset[\"train\"].column_names\n",
    ")\n",
    "tokenized_ds.save_to_disk(\"tokenized-wiki-ds.hf\")\n",
    "tokenized_ds"
   ],
   "metadata": {
    "collapsed": false,
    "ExecuteTime": {
     "end_time": "2025-06-06T20:24:50.467042Z",
     "start_time": "2025-06-06T20:24:49.547297Z"
    }
   },
   "id": "3245c8d35c4a038c"
  },
  {
   "cell_type": "code",
   "execution_count": 71,
   "outputs": [
    {
     "data": {
      "text/plain": "[' epit', 'Scot']"
     },
     "execution_count": 71,
     "metadata": {},
     "output_type": "execute_result"
    }
   ],
   "source": [
    "from torch import nn\n",
    "\n",
    "seq_length = 32\n",
    "\n",
    "# TODO: Token and positional embedding\n",
    "encoder_layer = nn.TransformerEncoderLayer(d_model=512, nhead=8, device=device)\n",
    "transformer_encoder = nn.TransformerEncoder(encoder_layer, num_layers=6)\n",
    "src = torch.rand(seq_length, 32, 512)\n",
    "causal_mask = nn.Transformer.generate_square_subsequent_mask(seq_length, device=device)\n",
    "transformer_encoder(src, mask=causal_mask).shape  # Skipping is_causal since seems troublesome: https://github.com/pytorch/pytorch/issues/96941\n",
    "# TODO: Add a linear layer to map the output to the vocabulary size, and then softmax on that"
   ],
   "metadata": {
    "collapsed": false,
    "ExecuteTime": {
     "end_time": "2025-06-06T21:40:12.977084Z",
     "start_time": "2025-06-06T21:40:12.556209Z"
    }
   },
   "id": "8ddb9121087fad4e"
  },
  {
   "cell_type": "code",
   "execution_count": 68,
   "outputs": [
    {
     "data": {
      "text/plain": "str"
     },
     "execution_count": 68,
     "metadata": {},
     "output_type": "execute_result"
    }
   ],
   "source": [],
   "metadata": {
    "collapsed": false,
    "ExecuteTime": {
     "end_time": "2025-06-06T21:39:34.101429Z",
     "start_time": "2025-06-06T21:39:34.097514Z"
    }
   },
   "id": "f0ce3a4d861100b7"
  }
 ],
 "metadata": {
  "kernelspec": {
   "display_name": "Python 3",
   "language": "python",
   "name": "python3"
  },
  "language_info": {
   "codemirror_mode": {
    "name": "ipython",
    "version": 2
   },
   "file_extension": ".py",
   "mimetype": "text/x-python",
   "name": "python",
   "nbconvert_exporter": "python",
   "pygments_lexer": "ipython2",
   "version": "2.7.6"
  }
 },
 "nbformat": 4,
 "nbformat_minor": 5
}
