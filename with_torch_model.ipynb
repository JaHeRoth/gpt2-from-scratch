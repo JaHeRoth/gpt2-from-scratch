{
 "cells": [
  {
   "cell_type": "code",
   "execution_count": 1,
   "outputs": [
    {
     "name": "stdout",
     "output_type": "stream",
     "text": [
      "device=device(type='cpu')\n"
     ]
    }
   ],
   "source": [
    "import torch\n",
    "\n",
    "if torch.cuda.is_available():\n",
    "    device = torch.device(\"cuda\")\n",
    "# Commented out because we yet again find mps to be drastically slower\n",
    "# elif torch.backends.mps.is_available():\n",
    "#     torch._dynamo.disable()  # https://github.com/pytorch/pytorch/issues/149184\n",
    "#     device = torch.device(\"mps\")\n",
    "else:\n",
    "    device = torch.device(\"cpu\")\n",
    "print(f\"{device=}\")"
   ],
   "metadata": {
    "collapsed": false,
    "ExecuteTime": {
     "end_time": "2025-06-07T15:45:07.031529Z",
     "start_time": "2025-06-07T15:45:06.114087Z"
    }
   },
   "id": "f1f7c192645ed843"
  },
  {
   "cell_type": "code",
   "execution_count": 2,
   "outputs": [],
   "source": [
    "from transformers import AutoTokenizer\n",
    "from datasets import load_dataset\n",
    "\n",
    "tokenizer = AutoTokenizer.from_pretrained(\"openai-community/gpt2\")\n",
    "dataset = load_dataset(\"wikitext\", \"wikitext-103-v1\")"
   ],
   "metadata": {
    "collapsed": false,
    "ExecuteTime": {
     "end_time": "2025-06-07T15:45:14.346036Z",
     "start_time": "2025-06-07T15:45:07.032209Z"
    }
   },
   "id": "dcc3bee03e0bf4e3"
  },
  {
   "cell_type": "code",
   "execution_count": null,
   "outputs": [
    {
     "data": {
      "text/plain": "Map:   0%|          | 0/1801350 [00:00<?, ? examples/s]",
      "application/vnd.jupyter.widget-view+json": {
       "version_major": 2,
       "version_minor": 0,
       "model_id": "06747377e83e42f9b26a6cde7694c0de"
      }
     },
     "metadata": {},
     "output_type": "display_data"
    }
   ],
   "source": [
    "context_length = 20\n",
    "\n",
    "def tokenize(batch):\n",
    "    # TODO: Sequence packing\n",
    "    outputs = tokenizer(\n",
    "        batch[\"text\"],\n",
    "        truncation=True,\n",
    "        max_length=context_length,\n",
    "        return_overflowing_tokens=True,\n",
    "        return_length=True,\n",
    "    )\n",
    "    return {\n",
    "        \"input_ids\": [\n",
    "            input_ids\n",
    "            for length, input_ids in zip(outputs[\"length\"], outputs[\"input_ids\"])\n",
    "            if length == context_length\n",
    "        ]\n",
    "    }\n",
    "\n",
    "tokenized_ds = dataset.map(\n",
    "    tokenize, batched=True, remove_columns=dataset[\"train\"].column_names\n",
    ")\n",
    "tokenized_ds.save_to_disk(\"tokenized-wiki-ds.hf\")\n",
    "tokenized_ds"
   ],
   "metadata": {
    "collapsed": false,
    "is_executing": true,
    "ExecuteTime": {
     "start_time": "2025-06-07T15:45:14.347420Z"
    }
   },
   "id": "3245c8d35c4a038c"
  },
  {
   "cell_type": "code",
   "execution_count": null,
   "outputs": [],
   "source": [
    "from torch import nn\n",
    "\n",
    "class PositionalEmbedding(nn.Module):\n",
    "    def __init__(self, embedding_dim, device):\n",
    "        super().__init__()\n",
    "        self.numerators = 10_000 ** (  # TODO: Why 10_000?\n",
    "            torch.arange(\n",
    "                start=0,\n",
    "                end=embedding_dim,\n",
    "                step=2,\n",
    "                device=device,\n",
    "            ).float()\n",
    "            / embedding_dim\n",
    "        )\n",
    "\n",
    "    def forward(self, input_ids: torch.Tensor):\n",
    "        with torch.no_grad():\n",
    "            positions = torch.arange(\n",
    "                input_ids.shape[1],\n",
    "                device=input_ids.device,\n",
    "            ).float()\n",
    "            raw_embeddings = positions.unsqueeze(1) @ (1 / self.numerators).unsqueeze(0)\n",
    "            even_embeddings = torch.sin(raw_embeddings)\n",
    "            odd_embeddings = torch.cos(raw_embeddings)\n",
    "            embeddings = torch.stack(\n",
    "                [even_embeddings, odd_embeddings], dim=-1\n",
    "            ).view(\n",
    "                len(positions), -1\n",
    "            )\n",
    "            return embeddings.unsqueeze(0).expand(input_ids.shape[0], -1, -1)\n",
    "\n",
    "\n",
    "token_embedder = nn.Embedding(\n",
    "    num_embeddings=tokenizer.vocab_size, embedding_dim=512, device=device\n",
    ")\n",
    "positional_embedder = PositionalEmbedding(embedding_dim=512, device=device)\n",
    "transformer_layer = nn.TransformerEncoderLayer(d_model=512, nhead=8, device=device)\n",
    "transformer = nn.TransformerEncoder(transformer_layer, num_layers=6)\n",
    "decoder = nn.Linear(512, tokenizer.vocab_size, device=device)\n",
    "\n",
    "src = [\"Hi, my name\", \"The United States of\"]\n",
    "tokenized = tokenizer(src, return_tensors=\"pt\").to(device)\n",
    "embedded = token_embedder(tokenized.input_ids) + positional_embedder(tokenized.input_ids)\n",
    "transformed = transformer(\n",
    "    embedded.permute(1, 0, 2),  # Transformer expects (seq_len, batch_size, features)\n",
    "    mask=nn.Transformer.generate_square_subsequent_mask(tokenized.input_ids.shape[1], device=device),\n",
    "    # Skipping is_causal since seems troublesome: https://github.com/pytorch/pytorch/issues/96941\n",
    ")\n",
    "logits = decoder(transformed.permute(1, 0, 2))  # Back to (batch_size, seq_len, features)\n",
    "result = tokenizer.batch_decode(logits[:, -1, :].argmax(dim=-1))\n",
    "result"
   ],
   "metadata": {
    "collapsed": false,
    "is_executing": true
   },
   "id": "8ddb9121087fad4e"
  },
  {
   "cell_type": "code",
   "execution_count": null,
   "outputs": [],
   "source": [
    "class MyGPT(nn.Module):\n",
    "    def __init__(self, d_model, nhead, num_layers, device):\n",
    "        super().__init__()\n",
    "        self.token_embedder = nn.Embedding(\n",
    "            num_embeddings=tokenizer.vocab_size, embedding_dim=d_model, device=device\n",
    "        )\n",
    "        self.positional_embedder = PositionalEmbedding(embedding_dim=d_model, device=device)\n",
    "        self.transformer = nn.TransformerEncoder(\n",
    "            nn.TransformerEncoderLayer(d_model=d_model, nhead=nhead, device=device),\n",
    "            num_layers=num_layers,\n",
    "        )\n",
    "        self.decoder = nn.Linear(d_model, tokenizer.vocab_size, device=device)\n",
    "\n",
    "    def forward(self, input_ids: torch.Tensor):\n",
    "        embedded = self.token_embedder(input_ids) + self.positional_embedder(input_ids)\n",
    "        transformed = self.transformer(\n",
    "            embedded.permute(1, 0, 2),  # Transformer expects (seq_len, batch_size, features)\n",
    "            mask=nn.Transformer.generate_square_subsequent_mask(input_ids.shape[1], device=input_ids.device),\n",
    "        )\n",
    "        logits = self.decoder(transformed.permute(1, 0, 2))\n",
    "        return logits\n",
    "\n",
    "\n",
    "model = MyGPT(d_model=512, nhead=8, num_layers=6, device=device)\n",
    "model"
   ],
   "metadata": {
    "collapsed": false,
    "is_executing": true
   },
   "id": "f0ce3a4d861100b7"
  },
  {
   "cell_type": "code",
   "execution_count": null,
   "outputs": [],
   "source": [
    "tokenizer.batch_decode(model(src)[:, -1, :].argmax(dim=-1))"
   ],
   "metadata": {
    "collapsed": false,
    "is_executing": true
   },
   "id": "96d84dc850df0508"
  },
  {
   "cell_type": "code",
   "execution_count": null,
   "outputs": [],
   "source": [],
   "metadata": {
    "collapsed": false
   },
   "id": "4ace6d0854424cb8"
  }
 ],
 "metadata": {
  "kernelspec": {
   "display_name": "Python 3",
   "language": "python",
   "name": "python3"
  },
  "language_info": {
   "codemirror_mode": {
    "name": "ipython",
    "version": 2
   },
   "file_extension": ".py",
   "mimetype": "text/x-python",
   "name": "python",
   "nbconvert_exporter": "python",
   "pygments_lexer": "ipython2",
   "version": "2.7.6"
  }
 },
 "nbformat": 4,
 "nbformat_minor": 5
}
