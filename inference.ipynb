{
 "cells": [
  {
   "cell_type": "code",
   "id": "initial_id",
   "metadata": {
    "collapsed": true,
    "ExecuteTime": {
     "end_time": "2025-08-09T13:59:09.556014Z",
     "start_time": "2025-08-09T13:59:04.231789Z"
    }
   },
   "source": [
    "import torch\n",
    "from transformers import AutoTokenizer\n",
    "\n",
    "from utilities.model_handler import print_stream\n",
    "from utilities.models import ModelConfig, ParametersGPT2\n",
    "\n",
    "device = torch.device(\"cuda\" if torch.cuda.is_available() else \"cpu\")\n",
    "\n",
    "checkpoint = torch.load(\"outputs/model.pt\", map_location=device)\n",
    "model_config = ModelConfig(**(checkpoint[\"model.config\"] | {\"device\": device}))\n",
    "model = ParametersGPT2(config=model_config)\n",
    "model.load_state_dict(checkpoint[\"model.state_dict\"])\n",
    "\n",
    "tokenizer = AutoTokenizer.from_pretrained(\"outputs/tokenizer\")\n",
    "\n",
    "def complete(\n",
    "    prompt: str, n_tries: int = 5, max_length: int | None = None, prob_threshold: float = 0.95, temperature: float = 1.0\n",
    ") -> None:\n",
    "    refined_prompt = f\"{tokenizer.eos_token}{prompt}\"  # Model was trained on sequences starting with EOS\n",
    "    for _ in range(n_tries):\n",
    "        print_stream(\n",
    "            model=model,\n",
    "            tokenizer=tokenizer,\n",
    "            prompt=refined_prompt,\n",
    "            device=device,\n",
    "            max_length=max_length,\n",
    "            prob_threshold=prob_threshold,\n",
    "            temperature=temperature,\n",
    "        )\n",
    "        print(\"\\n\" + \"=\" * 100 + \"\\n\", flush=True)"
   ],
   "outputs": [],
   "execution_count": 1
  },
  {
   "metadata": {
    "ExecuteTime": {
     "end_time": "2025-08-09T14:00:03.416474Z",
     "start_time": "2025-08-09T13:59:09.750581Z"
    }
   },
   "cell_type": "code",
   "source": "complete(prompt=\"\")",
   "id": "c26b9d6b9c728a99",
   "outputs": [
    {
     "name": "stdout",
     "output_type": "stream",
     "text": [
      "<|endoftext|>These Thematic Studies\n",
      "Guide to Using Paper for Your Students\n",
      "15 Pages PrintPaper & Range: Paperback edition (Version/Excerpt) 4 pages Hardcover, 2000\n",
      "Chapters are centered around Part 4: Personal Wishes. This part covers the original and original letter-writing techniques and research articles from this site. These are on the past, selected by readers who have contributed to the site and published on this site.\n",
      "Some of the original and original letters and journals do not include some of the most revered letters that stand in the margins, but add some reference to the newly created sound using a Cornell App.\n",
      "That's it! The folder contains the first page header, the Sibley guide, another title, a diagram, an idea for the first page, and a list of approved source titles.\n",
      "Research your paper. Write down every word that makes you think. Pay attention to grammar. Make sure all your thoughts are received correctly.\n",
      "Find the notes on this page that tell whether you want to publish your published paper or whether you are interested in publication. This is especially the source section.\n",
      "Download the EBSCO General Handbook on Final Papers from Next Topics, right here on the original site and on www.ebsco.org.\n",
      "Published on December 6th, 2003<|endoftext|>\n",
      "\n",
      "====================================================================================================\n",
      "\n",
      "<|endoftext|>One of the mysteries of the English language finally explained.\n",
      "Depicting a castle's position in the castle's defensive core is a vault with a roof made of a number of covered objects. Typically, about 400 – 500 rich people, including bishops, countesses, and kings would gather in the center of the castle to discuss its location, designed by two architects. The vault is decorated with cornices, onyxes, and emeralds; its structural fabric measures from around 1000 – 2000 carats in width. The walls have rarely been unfurled, except for valuable cairns known to have been partially dressed in gold.\n",
      "Vulgate is the English term for the vault. Henry VI, (governor of England) from 1403-1414, built the vault in 1414. Navigous financing for the building of the vault was vested in an estate of the Arles in terms of the Earl of Chester.\n",
      "Sir James VI was too ill to surrender his queen Gracehamelemy to the archiechiepiscopal heir her sovereign, Katherine Howard VII (1542-1603), with Richard I (1492-1559) as his heir. Katherine was imprisoned at her uncle's Abbey, where her cousin, Francis Howard, wrote about the alteration and dismantling of the vault after her execution at her exile.\n",
      "Depictement from the archiepiscopal palace to Henry VI.\n",
      "Treatment before the war, in 1624, of the right of state for the justices of the Realm of lesser jurisdictions. Despite a period of stability, Henry VI was deified, leaving a legacy of unstable stands. Henry VI was confirmed, and Henry VIII convened an Anglican Council, making Henry VII, who she had concurred in, the rightful successor to the throne; Henry VI remained president until his death.<|endoftext|>\n",
      "\n",
      "====================================================================================================\n",
      "\n",
      "<|endoftext|>The fourth installment of Genesis is related by Joel Minnauld.\n",
      "Read before you are able to read.\n",
      "1. God teaches us that men need to have a strong foundation for their livelihood. If you don��t already have the foundation, then you should not worry about the consequences of wickedness.\n",
      "2. The Torah says that one of the first things to be a man is not to have children – for they must be put in community services.\n",
      "3. But the final act that we must learn to do is to feed. Not the Torah��s commandments – but the Great Commandments.\n",
      "4. The basic condition of the Torah is an understanding that is human. That is the basic condition of the Torah. Be strong in a friend, even if you want to help an older member of your family. Or be smarter about reading religious texts.\n",
      "5. God promised Abraham that if you sent Jesus, each time you will receive the promise for the benefit of others. And this didn��t include the first month that was allotted for him.\n",
      "6. The first day in the Old Testament, circumcision was followed by death and hardening of the body, and these things to follow that death and hardening of the body.\n",
      "7. The idea of ��animals�� is that humans are not created equal. The animals must be kept in the same relationship for the same reason, that they are clean by sharing their food.\n",
      "8. In Genesis we are told that God commanded Abraham to give the animals, and from Abraham��s time on, the animals will be given.\n",
      "9. In the laws of God, there is not much to worry about to be a good steward. It is for everyone to have a first degree of responsibility, to know that at the end there will be no tears; that nothing is worthy to be sacrificed. It will be selfless for the rest of us to become responsible stewards of our own lives.\n",
      "10. How did you, and children, develop the capacity to vote?\n",
      "This posts are answered by Daniel Boone. If you wish to read more about Daniel Boone��s writings, read About Daniel Boone and the Bible. Daniel Boone was a Scottish explorer, ethnographer, and writer. Here is his dictionary for a friend. Daniel Boone��s Bible says ��Daniel Boone is the man who [maps …] the Bible.��\n",
      "Daniel Boone was born in Tonto, Ohio on July 21, 1840. He is known as ��The Great Great Child of the Bigwoods.�� On April 9, 1882, Boone was invited to speak at the 50th Annual Convention of the Boone Convention. It was during this visit that the leaders of Boone and Boone met. The Boone and Boone Journals contain ten letters. What you need to read before reading Daniel Boone��s Book is in section ��Links�� under this heading, a bibliography page, and some additional research. There are ten pages in the entries.\n",
      "11. What are Daniel Boone��s Four Horse Bill?\n",
      "The Boone book, Drifting Babies, may be given for $220.\n",
      "12. How did he eventually lead to the creation of the Rocky Mountain nation? Daniel Boone, not everyone knew about being a good cowboy. Was you ever involved in efforts to purchase a dangerous and professional trail running about 100 miles west? Did you also take part in some form of rockhopping?\n",
      "13. A Boy and Girl Forever\n",
      "Daniel Boone got to work with Drifting Babies to help them along the trip. After two months, and being active in the field, Boone needed help moving them to their new home in Boulder, Colorado. Yet, it took time and a great deal of time to finish.\n",
      "14. Daniel Boone��s Guns, One Easy Way of Making Modern Women Safer\n",
      "Since he met Drifting Babies, he decided to go to a creative classroom where children would learn a recipe for making modern women��s shoes. Boone��s favorite was a homemade feet shoe, which was called The Little Kindergarten shoe. He used lithography and gravimetric paper. After that, Mr. Boone and some teachers chose whether or not to go to school. In his writings, he had taught all children to make simple, new shoes. He also taught boys, particularly girls, to make a simple shoe. The teacher in the classes used BLOCHE by taking in word studies. The two books came together in a book called A Dutch Arms in Kindergarten.\n",
      "15. Daniel Boone and his Cheasiest Residences\n",
      "Daniel Boone Jr. served as an associate editor of the First Book of the First Serial (25/7), which was published in the Spring 2000 Magazine. He authored an essay of twenty-three volumes in Harper��s Weekly that appeared in The Journal of the First Serial for the first year of that year. Included in his list are eighteen pieces.\n",
      "\n",
      "====================================================================================================\n",
      "\n",
      "<|endoftext|>Hudson County History: Find a Grave\n",
      "Washington County Records: Wisconsin Census Date of Birth, Marriage, Marriage and Divorce in 1920. National Archives and Records Administration, University of Wisconsin.\n",
      "Hudson County History: Wisconsin Census Origin Records\n",
      "The hudsones on road to Milwaukee were long two-mile sections coming from Highway 49. Thomas Shea, who built the second bridge in 1929, was one of the owners. Though the families were originally from the hudsons, Thomas Shea died at age 83.\n",
      "G. N. A. Clemhouse, the colonel of the First Iowa Infantry was also named McNeil (Lurana). Later he was named Seattle, and later Jones the most likely. Miss Arie Anderson remained a student at the McNeil School at West Point University. In 1917 she was transferred to the school and, during her tenure, encouraged her to teach at the science, engineering and agricultural college in Seattle. In 1918 she transferred to the Iowa State Military Academy in Washington, now Waukopa. As a graduate she conducted further training at the Steel Factory and the Hindle Falls merchant shipyard. A certified instructor of classes at Hanna Steel, President Calvin Brown, considered McCray and Walker a preferred in the Missouri frontier for McCray. McCray was instrumental in the mill building enterprise in Hay River, Missouri. The McButty worksaw and McLane Ivar owned in both rural and urban areas. Hiram Davis then purchased the property in 1918 from McCray.\n",
      "Back to Wisconsin State Archives\n",
      "Back to Wisconsin State History Index of Names\n",
      "© 1995-2012 Kentucky Memory. A Division of Washington-D.C.\n",
      "Back to Wisconsin State Archives Home Page\n",
      "Last updated: October 12, 1997<|endoftext|>\n",
      "\n",
      "====================================================================================================\n",
      "\n",
      "<|endoftext|>\"AP University asks states for financial aid; states for economic aid - not just the federal ones - -\n",
      "States of the Union today are approaching the Financial Aid Marker's Year 2019. Some are electing lawmakers to re-engage in a new legal, reapportioning or contesting the federal and state public funds they receive. Others are fighting to elect the president if he vetoes.\n",
      "If they can see where it's going financially, whether or not they can view the financial aid they receive, it's called a \"financial aid\" or simply \"Kirk Out\" or \"FFa\". The turn of the draw is the chancellor's note that he intended to raise funds to educate graduate students. The Social Security Coalition, founded by 50 state lawmakers from across the country, is a committee of 100 members representing the Treasury Department, the U.S. government, academic institutions and employers.\n",
      "So how will it work? A member of the committee will direct business leaders at the defense industry - the tech giants IBM, Intel, Samsung, Toshiba, Dell, Dell Store, Lenovo, IBM Research and Alphabet, Tesla Motors, Airplane, Newtek, Statoil, Equifax Canada, American Airlines and Langdon College of Management. Others are headed into another leadership role as president for the next three years.\n",
      "Would you support raising funds and setting aside enough dollars to convert the 120 state agencies and businesses funding spend into a federal program?\n",
      "Here are some good tips from the Kentucky financial aid taskforce:\n",
      "- Pick the least costly online loans and buy a home energy meter\n",
      "- Get your home energy meter ready. Turn the energy meter offline.\n",
      "- Find out how other investors are willing to loan you money that doesn't cover the costs.\n",
      "- Set deadlines. Make sure you're ahead of the scheduled expenditures and reach them up quickly.\n",
      "- Often more expensive loans come and go than 3 years. If you know it's just unlikely to be paid, it's better to invest your money in a programmable U-like engine, or cashier where your cost doesn't impact the family or friends you love.\n",
      "- Buy a new mortgage or new mortgage. The mortgage he contracted or simply borrowed significantly exceeds your income.\n",
      "- How long is your contract? How long do you know your mortgage will cost before the next loan is paid, and in what range? Take the customer risk test.\n",
      "If you can't figure out what type of loans you're going to, you can have sound plans in place. You can look up the volume of loans, compute the loan balance and build up the loan portfolio based on the loan balance. You can also enter historical activities to see how your loan futures would change over time.\n",
      "Also note that Kentucky's general finances are evolving, changing, and changing, so don't step out from reality if your vehicle goes into action or if your car changes on the highways with your family. You don't have to become super active.\n",
      "More information on Kentucky's financial aid program can be found at http://www.nyc.gov/fcca/cgi/main/states-congressions//funds/.php<|endoftext|>\n",
      "\n",
      "====================================================================================================\n",
      "\n"
     ]
    }
   ],
   "execution_count": 2
  },
  {
   "metadata": {},
   "cell_type": "code",
   "outputs": [],
   "execution_count": null,
   "source": "",
   "id": "f1fea4711adfc487"
  }
 ],
 "metadata": {
  "kernelspec": {
   "display_name": "Python 3",
   "language": "python",
   "name": "python3"
  },
  "language_info": {
   "codemirror_mode": {
    "name": "ipython",
    "version": 2
   },
   "file_extension": ".py",
   "mimetype": "text/x-python",
   "name": "python",
   "nbconvert_exporter": "python",
   "pygments_lexer": "ipython2",
   "version": "2.7.6"
  }
 },
 "nbformat": 4,
 "nbformat_minor": 5
}
